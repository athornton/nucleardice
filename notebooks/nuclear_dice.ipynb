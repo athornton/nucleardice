{
 "cells": [
  {
   "cell_type": "code",
   "execution_count": null,
   "id": "fe166136-8d7a-4b69-9476-aac825b5df16",
   "metadata": {},
   "outputs": [],
   "source": [
    "# Do our imports\n",
    "\n",
    "import nucleardice\n",
    "import pandas\n",
    "import plotly.express as px\n",
    "\n",
    "from typing import Sequence"
   ]
  },
  {
   "cell_type": "code",
   "execution_count": null,
   "id": "5ca4fb93-56fa-4626-87ca-7792a8d9eabd",
   "metadata": {},
   "outputs": [],
   "source": [
    "def generate_dataframe(max_number_of_dice: int,\n",
    "                       die_sizes: Sequence[int],\n",
    "                       trials: int = 1000) -> pandas.DataFrame:\n",
    "    \"\"\"Generate a dataframe with data from our generated statistical sample.\"\"\"\n",
    "    color: dict[str] = {}\n",
    "    dsl = list(die_sizes)\n",
    "    for idx, val in enumerate(dsl):\n",
    "        pallette = px.colors.sequential.Plasma\n",
    "        step = int(len(pallette)/len(dsl))\n",
    "        color[val] = pallette[idx*step]\n",
    "\n",
    "    shape = {\n",
    "        \"fair_die_expectation\": \"square\",\n",
    "        \"nuclear_median\": \"circle\",\n",
    "        \"nuclear_mean\": \"diamond\",\n",
    "    }\n",
    "    outcomes = pandas.DataFrame(\n",
    "        columns = [\n",
    "            \"n\",\n",
    "            \"x\",\n",
    "            \"value\",\n",
    "            \"measurement\",\n",
    "            \"color\",\n",
    "            \"shape\",\n",
    "        ]\n",
    "    )  # Where we will put our results\n",
    "\n",
    "    for x in die_sizes:\n",
    "        for n in range(1, max_number_of_dice+1):\n",
    "            st = nucleardice.NuclearDiceStatistics(n=n, x=x, rolls=trials)\n",
    "            st.roll()\n",
    "            item_expected = {\n",
    "                \"n\": n,\n",
    "                \"x\": x,\n",
    "                \"value\": n * ( x + 1 ) / 2,  # Mean and median of fair dice should be the same\n",
    "                \"measurement\": \"fair_die_expectation\",\n",
    "                \"color\": color[x],\n",
    "                \"shape\": shape[\"fair_die_expectation\"]\n",
    "            }\n",
    "            item_mean = {\n",
    "                \"n\": n,\n",
    "                \"x\": x,\n",
    "                \"value\": st._sum_stats.mean,\n",
    "                \"measurement\": \"nuclear_mean\",\n",
    "                \"color\": color[x],\n",
    "                \"shape\": shape[\"nuclear_mean\"],\n",
    "            }\n",
    "            item_median = {\n",
    "                \"n\": n,\n",
    "                \"x\": x,\n",
    "                \"value\": st._sum_stats.median,\n",
    "                \"measurement\": \"nuclear_median\",\n",
    "                \"color\": color[x],\n",
    "                \"shape\": shape[\"nuclear_median\"]\n",
    "            }\n",
    "            outcomes.loc[len(outcomes)] = item_expected\n",
    "            outcomes.loc[len(outcomes)] = item_mean\n",
    "            outcomes.loc[len(outcomes)] = item_median\n",
    "    return outcomes"
   ]
  },
  {
   "cell_type": "code",
   "execution_count": null,
   "id": "dc512f1b-dde2-4d28-a609-04b0f08ff733",
   "metadata": {},
   "outputs": [],
   "source": [
    "outcomes = generate_dataframe(die_sizes = (4, 6, 8, 10, 12, 20), max_number_of_dice=10)"
   ]
  },
  {
   "cell_type": "code",
   "execution_count": null,
   "id": "24cd4c03-f7b9-43b7-a04c-de121c6e7b87",
   "metadata": {},
   "outputs": [],
   "source": [
    "fig=px.scatter_3d(\n",
    "    data_frame=outcomes,\n",
    "    x='x',y='n',z='value',\n",
    "    color='color', color_discrete_map='identity',\n",
    "    symbol='shape', symbol_map='identity',\n",
    "    hover_data=['measurement'],\n",
    "    width=1200, height=800\n",
    ")\n",
    "fig.show()"
   ]
  },
  {
   "cell_type": "code",
   "execution_count": null,
   "id": "630a591d-7df2-452e-b00e-a7a554f00ea2",
   "metadata": {},
   "outputs": [],
   "source": [
    "# Now let's do the crazy outliers that happen with tiny dice\n",
    "small_die_outcomes = generate_dataframe(die_sizes = (2, 3), max_number_of_dice=6)\n",
    "fig=px.scatter_3d(\n",
    "    data_frame=small_die_outcomes,\n",
    "    x='x',y='n',z='value',\n",
    "    color='color', color_discrete_map='identity',\n",
    "    symbol='shape', symbol_map='identity',\n",
    "    hover_data=['measurement'],\n",
    "    width=1200, height=800\n",
    ")\n",
    "fig.show()"
   ]
  }
 ],
 "metadata": {
  "kernelspec": {
   "display_name": "Python 3 (ipykernel)",
   "language": "python",
   "name": "python3"
  },
  "language_info": {
   "codemirror_mode": {
    "name": "ipython",
    "version": 3
   },
   "file_extension": ".py",
   "mimetype": "text/x-python",
   "name": "python",
   "nbconvert_exporter": "python",
   "pygments_lexer": "ipython3",
   "version": "3.10.13"
  }
 },
 "nbformat": 4,
 "nbformat_minor": 5
}
